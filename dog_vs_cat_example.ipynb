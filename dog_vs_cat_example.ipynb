{
  "cells": [
    {
      "cell_type": "markdown",
      "metadata": {
        "id": "view-in-github",
        "colab_type": "text"
      },
      "source": [
        "<a href=\"https://colab.research.google.com/github/kbei5234/AI-for-PCB-Design/blob/main/dog_vs_cat_example.ipynb\" target=\"_parent\"><img src=\"https://colab.research.google.com/assets/colab-badge.svg\" alt=\"Open In Colab\"/></a>"
      ]
    },
    {
      "cell_type": "code",
      "execution_count": null,
      "metadata": {
        "colab": {
          "background_save": true,
          "base_uri": "https://localhost:8080/",
          "height": 38
        },
        "id": "4xpELpHXlyZZ",
        "outputId": "4be2b9a2-1ddc-489a-a9c9-bea92d35bc77"
      },
      "outputs": [
        {
          "data": {
            "text/html": [
              "\n",
              "     <input type=\"file\" id=\"files-642cfc10-2700-4c06-aafc-10cd8eacb680\" name=\"files[]\" multiple disabled\n",
              "        style=\"border:none\" />\n",
              "     <output id=\"result-642cfc10-2700-4c06-aafc-10cd8eacb680\">\n",
              "      Upload widget is only available when the cell has been executed in the\n",
              "      current browser session. Please rerun this cell to enable.\n",
              "      </output>\n",
              "      <script>// Copyright 2017 Google LLC\n",
              "//\n",
              "// Licensed under the Apache License, Version 2.0 (the \"License\");\n",
              "// you may not use this file except in compliance with the License.\n",
              "// You may obtain a copy of the License at\n",
              "//\n",
              "//      http://www.apache.org/licenses/LICENSE-2.0\n",
              "//\n",
              "// Unless required by applicable law or agreed to in writing, software\n",
              "// distributed under the License is distributed on an \"AS IS\" BASIS,\n",
              "// WITHOUT WARRANTIES OR CONDITIONS OF ANY KIND, either express or implied.\n",
              "// See the License for the specific language governing permissions and\n",
              "// limitations under the License.\n",
              "\n",
              "/**\n",
              " * @fileoverview Helpers for google.colab Python module.\n",
              " */\n",
              "(function(scope) {\n",
              "function span(text, styleAttributes = {}) {\n",
              "  const element = document.createElement('span');\n",
              "  element.textContent = text;\n",
              "  for (const key of Object.keys(styleAttributes)) {\n",
              "    element.style[key] = styleAttributes[key];\n",
              "  }\n",
              "  return element;\n",
              "}\n",
              "\n",
              "// Max number of bytes which will be uploaded at a time.\n",
              "const MAX_PAYLOAD_SIZE = 100 * 1024;\n",
              "\n",
              "function _uploadFiles(inputId, outputId) {\n",
              "  const steps = uploadFilesStep(inputId, outputId);\n",
              "  const outputElement = document.getElementById(outputId);\n",
              "  // Cache steps on the outputElement to make it available for the next call\n",
              "  // to uploadFilesContinue from Python.\n",
              "  outputElement.steps = steps;\n",
              "\n",
              "  return _uploadFilesContinue(outputId);\n",
              "}\n",
              "\n",
              "// This is roughly an async generator (not supported in the browser yet),\n",
              "// where there are multiple asynchronous steps and the Python side is going\n",
              "// to poll for completion of each step.\n",
              "// This uses a Promise to block the python side on completion of each step,\n",
              "// then passes the result of the previous step as the input to the next step.\n",
              "function _uploadFilesContinue(outputId) {\n",
              "  const outputElement = document.getElementById(outputId);\n",
              "  const steps = outputElement.steps;\n",
              "\n",
              "  const next = steps.next(outputElement.lastPromiseValue);\n",
              "  return Promise.resolve(next.value.promise).then((value) => {\n",
              "    // Cache the last promise value to make it available to the next\n",
              "    // step of the generator.\n",
              "    outputElement.lastPromiseValue = value;\n",
              "    return next.value.response;\n",
              "  });\n",
              "}\n",
              "\n",
              "/**\n",
              " * Generator function which is called between each async step of the upload\n",
              " * process.\n",
              " * @param {string} inputId Element ID of the input file picker element.\n",
              " * @param {string} outputId Element ID of the output display.\n",
              " * @return {!Iterable<!Object>} Iterable of next steps.\n",
              " */\n",
              "function* uploadFilesStep(inputId, outputId) {\n",
              "  const inputElement = document.getElementById(inputId);\n",
              "  inputElement.disabled = false;\n",
              "\n",
              "  const outputElement = document.getElementById(outputId);\n",
              "  outputElement.innerHTML = '';\n",
              "\n",
              "  const pickedPromise = new Promise((resolve) => {\n",
              "    inputElement.addEventListener('change', (e) => {\n",
              "      resolve(e.target.files);\n",
              "    });\n",
              "  });\n",
              "\n",
              "  const cancel = document.createElement('button');\n",
              "  inputElement.parentElement.appendChild(cancel);\n",
              "  cancel.textContent = 'Cancel upload';\n",
              "  const cancelPromise = new Promise((resolve) => {\n",
              "    cancel.onclick = () => {\n",
              "      resolve(null);\n",
              "    };\n",
              "  });\n",
              "\n",
              "  // Wait for the user to pick the files.\n",
              "  const files = yield {\n",
              "    promise: Promise.race([pickedPromise, cancelPromise]),\n",
              "    response: {\n",
              "      action: 'starting',\n",
              "    }\n",
              "  };\n",
              "\n",
              "  cancel.remove();\n",
              "\n",
              "  // Disable the input element since further picks are not allowed.\n",
              "  inputElement.disabled = true;\n",
              "\n",
              "  if (!files) {\n",
              "    return {\n",
              "      response: {\n",
              "        action: 'complete',\n",
              "      }\n",
              "    };\n",
              "  }\n",
              "\n",
              "  for (const file of files) {\n",
              "    const li = document.createElement('li');\n",
              "    li.append(span(file.name, {fontWeight: 'bold'}));\n",
              "    li.append(span(\n",
              "        `(${file.type || 'n/a'}) - ${file.size} bytes, ` +\n",
              "        `last modified: ${\n",
              "            file.lastModifiedDate ? file.lastModifiedDate.toLocaleDateString() :\n",
              "                                    'n/a'} - `));\n",
              "    const percent = span('0% done');\n",
              "    li.appendChild(percent);\n",
              "\n",
              "    outputElement.appendChild(li);\n",
              "\n",
              "    const fileDataPromise = new Promise((resolve) => {\n",
              "      const reader = new FileReader();\n",
              "      reader.onload = (e) => {\n",
              "        resolve(e.target.result);\n",
              "      };\n",
              "      reader.readAsArrayBuffer(file);\n",
              "    });\n",
              "    // Wait for the data to be ready.\n",
              "    let fileData = yield {\n",
              "      promise: fileDataPromise,\n",
              "      response: {\n",
              "        action: 'continue',\n",
              "      }\n",
              "    };\n",
              "\n",
              "    // Use a chunked sending to avoid message size limits. See b/62115660.\n",
              "    let position = 0;\n",
              "    do {\n",
              "      const length = Math.min(fileData.byteLength - position, MAX_PAYLOAD_SIZE);\n",
              "      const chunk = new Uint8Array(fileData, position, length);\n",
              "      position += length;\n",
              "\n",
              "      const base64 = btoa(String.fromCharCode.apply(null, chunk));\n",
              "      yield {\n",
              "        response: {\n",
              "          action: 'append',\n",
              "          file: file.name,\n",
              "          data: base64,\n",
              "        },\n",
              "      };\n",
              "\n",
              "      let percentDone = fileData.byteLength === 0 ?\n",
              "          100 :\n",
              "          Math.round((position / fileData.byteLength) * 100);\n",
              "      percent.textContent = `${percentDone}% done`;\n",
              "\n",
              "    } while (position < fileData.byteLength);\n",
              "  }\n",
              "\n",
              "  // All done.\n",
              "  yield {\n",
              "    response: {\n",
              "      action: 'complete',\n",
              "    }\n",
              "  };\n",
              "}\n",
              "\n",
              "scope.google = scope.google || {};\n",
              "scope.google.colab = scope.google.colab || {};\n",
              "scope.google.colab._files = {\n",
              "  _uploadFiles,\n",
              "  _uploadFilesContinue,\n",
              "};\n",
              "})(self);\n",
              "</script> "
            ],
            "text/plain": [
              "<IPython.core.display.HTML object>"
            ]
          },
          "metadata": {},
          "output_type": "display_data"
        }
      ],
      "source": [
        "from google.colab import files\n",
        "files.upload()"
      ]
    },
    {
      "cell_type": "code",
      "execution_count": null,
      "metadata": {
        "id": "292uY3xjl70v"
      },
      "outputs": [],
      "source": [
        "!mkdir ~/.kaggle"
      ]
    },
    {
      "cell_type": "code",
      "execution_count": null,
      "metadata": {
        "id": "zVn3OnCil_1A"
      },
      "outputs": [],
      "source": [
        "!cp kaggle.json ~/.kaggle/"
      ]
    },
    {
      "cell_type": "code",
      "execution_count": null,
      "metadata": {
        "id": "FKbIFUYimCaF"
      },
      "outputs": [],
      "source": [
        "!chmod 600 ~/.kaggle/kaggle.json"
      ]
    },
    {
      "cell_type": "code",
      "execution_count": null,
      "metadata": {
        "id": "Ihb4bmrUmGns"
      },
      "outputs": [],
      "source": [
        "!kaggle competitions download -c dogs-vs-cats"
      ]
    },
    {
      "cell_type": "code",
      "execution_count": null,
      "metadata": {
        "id": "RCgxvIU7sHO3"
      },
      "outputs": [],
      "source": [
        "pwd"
      ]
    },
    {
      "cell_type": "code",
      "execution_count": null,
      "metadata": {
        "id": "XRH-uzUXsK_B"
      },
      "outputs": [],
      "source": [
        "ls"
      ]
    },
    {
      "cell_type": "code",
      "execution_count": null,
      "metadata": {
        "id": "dddR2GhHsO7Y"
      },
      "outputs": [],
      "source": [
        "!unzip -qq dogs-vs-cats.zip"
      ]
    },
    {
      "cell_type": "code",
      "execution_count": null,
      "metadata": {
        "id": "4cKbkHOas5EH"
      },
      "outputs": [],
      "source": [
        "ls"
      ]
    },
    {
      "cell_type": "markdown",
      "metadata": {
        "id": "qOJaTqnRI16q"
      },
      "source": [
        "unzipping the training set was not working for me--  go to after line 12"
      ]
    },
    {
      "cell_type": "code",
      "execution_count": null,
      "metadata": {
        "id": "OLQZTJa7mQcS"
      },
      "outputs": [],
      "source": [
        "!unzip -qq train.zip"
      ]
    },
    {
      "cell_type": "code",
      "execution_count": null,
      "metadata": {
        "id": "0vj3qTd9mux9"
      },
      "outputs": [],
      "source": [
        "ls -l\n"
      ]
    },
    {
      "cell_type": "markdown",
      "metadata": {
        "id": "8G6173Mgooi0"
      },
      "source": [
        "Manually uploaded train.zip file to files and executed the code below to unzip the file"
      ]
    },
    {
      "cell_type": "code",
      "execution_count": null,
      "metadata": {
        "id": "VgVhxgiZohfR"
      },
      "outputs": [],
      "source": [
        "!unzip -qq train.zip\n"
      ]
    },
    {
      "cell_type": "code",
      "execution_count": null,
      "metadata": {
        "id": "gtviqOA8owz6"
      },
      "outputs": [],
      "source": [
        "import os, shutil, pathlib"
      ]
    },
    {
      "cell_type": "code",
      "execution_count": null,
      "metadata": {
        "id": "unefJ16xo51W"
      },
      "outputs": [],
      "source": [
        "original_dir = pathlib.Path(\"train\")\n",
        "new_base_dir = pathlib.Path(\"cats_vs_dogs_small\")"
      ]
    },
    {
      "cell_type": "code",
      "execution_count": null,
      "metadata": {
        "id": "aHZDrdxVo9Im"
      },
      "outputs": [],
      "source": [
        "def make_subset(subset_name, start_index, end_index):\n",
        "  for category in (\"cat\", \"dog\"):\n",
        "    dir = new_base_dir / subset_name / category\n",
        "    os.makedirs(dir)\n",
        "    fnames = [f\"{category}.{i}.jpg\"\n",
        "      for i in range(start_index, end_index)]\n",
        "  for fname in fnames:\n",
        "    shutil.copyfile(src=original_dir / fname, dst=dir / fname)"
      ]
    },
    {
      "cell_type": "code",
      "execution_count": null,
      "metadata": {
        "id": "keVoX_QAph4X"
      },
      "outputs": [],
      "source": [
        "make_subset(\"train\", start_index=0, end_index=1000)\n",
        "make_subset(\"validation\", start_index=1000, end_index=1500)\n",
        "make_subset(\"test\", start_index=1500, end_index=2500)"
      ]
    },
    {
      "cell_type": "markdown",
      "metadata": {
        "id": "jg8GicDIppZ0"
      },
      "source": [
        "Building the Model:"
      ]
    },
    {
      "cell_type": "code",
      "execution_count": null,
      "metadata": {
        "id": "j4HHIirrpmK7"
      },
      "outputs": [],
      "source": [
        "from tensorflow import keras\n",
        "from tensorflow.keras import layers"
      ]
    },
    {
      "cell_type": "code",
      "execution_count": null,
      "metadata": {
        "id": "gxEnTUYApy7n"
      },
      "outputs": [],
      "source": [
        "#model expects RGB images of size 180x180\n",
        "inputs = keras.Input(shape=(180, 180, 3))\n",
        "#Rescale inputs to the [0, 1] range by dividing them by 255.\n",
        "x = layers.Rescaling(1./255)(inputs)\n",
        "x = layers.Conv2D(filters=32, kernel_size=3, activation=\"relu\")(x)\n",
        "x = layers.MaxPooling2D(pool_size=2)(x)\n",
        "x = layers.Conv2D(filters=64, kernel_size=3, activation=\"relu\")(x)\n",
        "x = layers.MaxPooling2D(pool_size=2)(x)\n",
        "x = layers.Conv2D(filters=128, kernel_size=3, activation=\"relu\")(x)\n",
        "x = layers.MaxPooling2D(pool_size=2)(x)\n",
        "x = layers.Conv2D(filters=256, kernel_size=3, activation=\"relu\")(x)\n",
        "x = layers.MaxPooling2D(pool_size=2)(x)\n",
        "x = layers.Conv2D(filters=256, kernel_size=3, activation=\"relu\")(x)\n",
        "x = layers.Flatten()(x)\n",
        "outputs = layers.Dense(1, activation=\"sigmoid\")(x)\n",
        "model = keras.Model(inputs=inputs, outputs=outputs)"
      ]
    },
    {
      "cell_type": "markdown",
      "metadata": {
        "id": "cUnPb2O7rQV4"
      },
      "source": [
        "For compilation step, will be using RMSprop optmizer. Ended model with single sigmoid unit, will be using binary crossentropy as loss function"
      ]
    },
    {
      "cell_type": "code",
      "execution_count": null,
      "metadata": {
        "id": "HFXlXaWVrigp"
      },
      "outputs": [],
      "source": [
        "model.compile(loss=\"binary_crossentropy\",\n",
        " optimizer=\"rmsprop\",\n",
        " metrics=[\"accuracy\"])"
      ]
    },
    {
      "cell_type": "markdown",
      "metadata": {
        "id": "YOuf0CP0rlh1"
      },
      "source": [
        " Data Preprocessing:\n",
        "1 Read the picture files.\n",
        "2 Decode the JPEG content to RGB grids of pixels.\n",
        "3 Convert these into floating-point tensors.\n",
        "4 Resize them to a shared size (we’ll use 180 × 180).\n",
        "5 Pack them into batches (we’ll use batches of 32 images)."
      ]
    },
    {
      "cell_type": "code",
      "execution_count": null,
      "metadata": {
        "id": "cmw2jifCrm0r"
      },
      "outputs": [],
      "source": [
        "from tensorflow.keras.utils import image_dataset_from_directory\n",
        "\n",
        "train_dataset = image_dataset_from_directory(\n",
        " new_base_dir / \"train\",\n",
        " image_size=(180, 180),\n",
        " batch_size=32)\n",
        "validation_dataset = image_dataset_from_directory(\n",
        " new_base_dir / \"validation\",\n",
        " image_size=(180, 180),\n",
        " batch_size=32)\n",
        "test_dataset = image_dataset_from_directory(\n",
        " new_base_dir / \"test\",\n",
        " image_size=(180, 180),\n",
        " batch_size=32)"
      ]
    },
    {
      "cell_type": "code",
      "execution_count": null,
      "metadata": {
        "id": "3UbsqkD0tJoO"
      },
      "outputs": [],
      "source": [
        "#Displaying shape of the data and labels yielded by the Dataset\n",
        "for data_batch, labels_batch in train_dataset:\n",
        "  print(\"data batch shape:\", data_batch.shape)\n",
        "  print(\"labels batch shape:\", labels_batch.shape)\n",
        "  break"
      ]
    },
    {
      "cell_type": "markdown",
      "metadata": {
        "id": "wGOnxuoyt6w2"
      },
      "source": [
        "Fitting the model using a Dataset"
      ]
    },
    {
      "cell_type": "code",
      "execution_count": null,
      "metadata": {
        "colab": {
          "background_save": true,
          "base_uri": "https://localhost:8080/"
        },
        "id": "f5Ypo2b6t7UX",
        "outputId": "2d0d28db-4dd3-4a66-fd6b-e6bf33e48849"
      },
      "outputs": [
        {
          "name": "stdout",
          "output_type": "stream",
          "text": [
            "Epoch 1/30\n",
            "\u001b[1m32/32\u001b[0m \u001b[32m━━━━━━━━━━━━━━━━━━━━\u001b[0m\u001b[37m\u001b[0m \u001b[1m129s\u001b[0m 4s/step - accuracy: 1.0000 - loss: 1.5122e-13 - val_accuracy: 1.0000 - val_loss: 4.9425e-10\n",
            "Epoch 2/30\n",
            "\u001b[1m32/32\u001b[0m \u001b[32m━━━━━━━━━━━━━━━━━━━━\u001b[0m\u001b[37m\u001b[0m \u001b[1m127s\u001b[0m 4s/step - accuracy: 1.0000 - loss: 2.3520e-13 - val_accuracy: 1.0000 - val_loss: 4.9425e-10\n",
            "Epoch 3/30\n",
            "\u001b[1m32/32\u001b[0m \u001b[32m━━━━━━━━━━━━━━━━━━━━\u001b[0m\u001b[37m\u001b[0m \u001b[1m145s\u001b[0m 4s/step - accuracy: 1.0000 - loss: 1.0403e-13 - val_accuracy: 1.0000 - val_loss: 4.9425e-10\n",
            "Epoch 4/30\n",
            "\u001b[1m32/32\u001b[0m \u001b[32m━━━━━━━━━━━━━━━━━━━━\u001b[0m\u001b[37m\u001b[0m \u001b[1m136s\u001b[0m 4s/step - accuracy: 1.0000 - loss: 1.2537e-13 - val_accuracy: 1.0000 - val_loss: 4.9425e-10\n",
            "Epoch 5/30\n",
            "\u001b[1m32/32\u001b[0m \u001b[32m━━━━━━━━━━━━━━━━━━━━\u001b[0m\u001b[37m\u001b[0m \u001b[1m153s\u001b[0m 4s/step - accuracy: 1.0000 - loss: 2.0519e-13 - val_accuracy: 1.0000 - val_loss: 4.9425e-10\n",
            "Epoch 6/30\n",
            "\u001b[1m32/32\u001b[0m \u001b[32m━━━━━━━━━━━━━━━━━━━━\u001b[0m\u001b[37m\u001b[0m \u001b[1m112s\u001b[0m 4s/step - accuracy: 1.0000 - loss: 1.5853e-13 - val_accuracy: 1.0000 - val_loss: 4.9425e-10\n",
            "Epoch 7/30\n",
            "\u001b[1m32/32\u001b[0m \u001b[32m━━━━━━━━━━━━━━━━━━━━\u001b[0m\u001b[37m\u001b[0m \u001b[1m112s\u001b[0m 4s/step - accuracy: 1.0000 - loss: 6.1834e-14 - val_accuracy: 1.0000 - val_loss: 4.9425e-10\n",
            "Epoch 8/30\n",
            "\u001b[1m32/32\u001b[0m \u001b[32m━━━━━━━━━━━━━━━━━━━━\u001b[0m\u001b[37m\u001b[0m \u001b[1m150s\u001b[0m 4s/step - accuracy: 1.0000 - loss: 9.4523e-14 - val_accuracy: 1.0000 - val_loss: 4.9425e-10\n",
            "Epoch 9/30\n",
            "\u001b[1m32/32\u001b[0m \u001b[32m━━━━━━━━━━━━━━━━━━━━\u001b[0m\u001b[37m\u001b[0m \u001b[1m135s\u001b[0m 4s/step - accuracy: 1.0000 - loss: 9.4897e-14 - val_accuracy: 1.0000 - val_loss: 4.9425e-10\n",
            "Epoch 10/30\n",
            "\u001b[1m32/32\u001b[0m \u001b[32m━━━━━━━━━━━━━━━━━━━━\u001b[0m\u001b[37m\u001b[0m \u001b[1m142s\u001b[0m 4s/step - accuracy: 1.0000 - loss: 1.6033e-13 - val_accuracy: 1.0000 - val_loss: 4.9425e-10\n",
            "Epoch 11/30\n",
            "\u001b[1m32/32\u001b[0m \u001b[32m━━━━━━━━━━━━━━━━━━━━\u001b[0m\u001b[37m\u001b[0m \u001b[1m144s\u001b[0m 4s/step - accuracy: 1.0000 - loss: 1.0101e-13 - val_accuracy: 1.0000 - val_loss: 4.9425e-10\n",
            "Epoch 12/30\n",
            "\u001b[1m32/32\u001b[0m \u001b[32m━━━━━━━━━━━━━━━━━━━━\u001b[0m\u001b[37m\u001b[0m \u001b[1m149s\u001b[0m 4s/step - accuracy: 1.0000 - loss: 1.8472e-13 - val_accuracy: 1.0000 - val_loss: 4.9425e-10\n",
            "Epoch 13/30\n",
            "\u001b[1m32/32\u001b[0m \u001b[32m━━━━━━━━━━━━━━━━━━━━\u001b[0m\u001b[37m\u001b[0m \u001b[1m140s\u001b[0m 4s/step - accuracy: 1.0000 - loss: 1.5414e-13 - val_accuracy: 1.0000 - val_loss: 4.9425e-10\n",
            "Epoch 14/30\n",
            "\u001b[1m32/32\u001b[0m \u001b[32m━━━━━━━━━━━━━━━━━━━━\u001b[0m\u001b[37m\u001b[0m \u001b[1m112s\u001b[0m 4s/step - accuracy: 1.0000 - loss: 2.1075e-13 - val_accuracy: 1.0000 - val_loss: 4.9425e-10\n",
            "Epoch 15/30\n",
            "\u001b[1m32/32\u001b[0m \u001b[32m━━━━━━━━━━━━━━━━━━━━\u001b[0m\u001b[37m\u001b[0m \u001b[1m111s\u001b[0m 3s/step - accuracy: 1.0000 - loss: 1.8827e-13 - val_accuracy: 1.0000 - val_loss: 4.9425e-10\n",
            "Epoch 16/30\n",
            "\u001b[1m32/32\u001b[0m \u001b[32m━━━━━━━━━━━━━━━━━━━━\u001b[0m\u001b[37m\u001b[0m \u001b[1m112s\u001b[0m 4s/step - accuracy: 1.0000 - loss: 1.4774e-13 - val_accuracy: 1.0000 - val_loss: 4.9425e-10\n",
            "Epoch 17/30\n",
            "\u001b[1m32/32\u001b[0m \u001b[32m━━━━━━━━━━━━━━━━━━━━\u001b[0m\u001b[37m\u001b[0m \u001b[1m149s\u001b[0m 4s/step - accuracy: 1.0000 - loss: 1.8333e-13 - val_accuracy: 1.0000 - val_loss: 4.9425e-10\n",
            "Epoch 18/30\n",
            "\u001b[1m32/32\u001b[0m \u001b[32m━━━━━━━━━━━━━━━━━━━━\u001b[0m\u001b[37m\u001b[0m \u001b[1m112s\u001b[0m 4s/step - accuracy: 1.0000 - loss: 1.2778e-13 - val_accuracy: 1.0000 - val_loss: 4.9425e-10\n",
            "Epoch 19/30\n",
            "\u001b[1m32/32\u001b[0m \u001b[32m━━━━━━━━━━━━━━━━━━━━\u001b[0m\u001b[37m\u001b[0m \u001b[1m113s\u001b[0m 4s/step - accuracy: 1.0000 - loss: 1.6553e-13 - val_accuracy: 1.0000 - val_loss: 4.9425e-10\n",
            "Epoch 20/30\n",
            "\u001b[1m32/32\u001b[0m \u001b[32m━━━━━━━━━━━━━━━━━━━━\u001b[0m\u001b[37m\u001b[0m \u001b[1m114s\u001b[0m 4s/step - accuracy: 1.0000 - loss: 1.9939e-13 - val_accuracy: 1.0000 - val_loss: 4.9425e-10\n",
            "Epoch 21/30\n",
            "\u001b[1m32/32\u001b[0m \u001b[32m━━━━━━━━━━━━━━━━━━━━\u001b[0m\u001b[37m\u001b[0m \u001b[1m141s\u001b[0m 3s/step - accuracy: 1.0000 - loss: 2.2201e-13 - val_accuracy: 1.0000 - val_loss: 4.9425e-10\n",
            "Epoch 22/30\n",
            "\u001b[1m32/32\u001b[0m \u001b[32m━━━━━━━━━━━━━━━━━━━━\u001b[0m\u001b[37m\u001b[0m \u001b[1m148s\u001b[0m 4s/step - accuracy: 1.0000 - loss: 1.4795e-13 - val_accuracy: 1.0000 - val_loss: 4.9425e-10\n",
            "Epoch 23/30\n",
            "\u001b[1m32/32\u001b[0m \u001b[32m━━━━━━━━━━━━━━━━━━━━\u001b[0m\u001b[37m\u001b[0m \u001b[1m134s\u001b[0m 4s/step - accuracy: 1.0000 - loss: 1.5184e-13 - val_accuracy: 1.0000 - val_loss: 4.9425e-10\n",
            "Epoch 24/30\n",
            "\u001b[1m32/32\u001b[0m \u001b[32m━━━━━━━━━━━━━━━━━━━━\u001b[0m\u001b[37m\u001b[0m \u001b[1m142s\u001b[0m 4s/step - accuracy: 1.0000 - loss: 1.2170e-13 - val_accuracy: 1.0000 - val_loss: 4.9425e-10\n",
            "Epoch 25/30\n",
            "\u001b[1m32/32\u001b[0m \u001b[32m━━━━━━━━━━━━━━━━━━━━\u001b[0m\u001b[37m\u001b[0m \u001b[1m141s\u001b[0m 3s/step - accuracy: 1.0000 - loss: 2.3716e-13 - val_accuracy: 1.0000 - val_loss: 4.9425e-10\n",
            "Epoch 26/30\n",
            "\u001b[1m32/32\u001b[0m \u001b[32m━━━━━━━━━━━━━━━━━━━━\u001b[0m\u001b[37m\u001b[0m \u001b[1m151s\u001b[0m 4s/step - accuracy: 1.0000 - loss: 9.6830e-14 - val_accuracy: 1.0000 - val_loss: 4.9425e-10\n",
            "Epoch 27/30\n",
            "\u001b[1m32/32\u001b[0m \u001b[32m━━━━━━━━━━━━━━━━━━━━\u001b[0m\u001b[37m\u001b[0m \u001b[1m135s\u001b[0m 4s/step - accuracy: 1.0000 - loss: 7.8677e-14 - val_accuracy: 1.0000 - val_loss: 4.9425e-10\n",
            "Epoch 28/30\n",
            "\u001b[1m32/32\u001b[0m \u001b[32m━━━━━━━━━━━━━━━━━━━━\u001b[0m\u001b[37m\u001b[0m \u001b[1m141s\u001b[0m 4s/step - accuracy: 1.0000 - loss: 1.5502e-13 - val_accuracy: 1.0000 - val_loss: 4.9425e-10\n",
            "Epoch 29/30\n",
            "\u001b[1m32/32\u001b[0m \u001b[32m━━━━━━━━━━━━━━━━━━━━\u001b[0m\u001b[37m\u001b[0m \u001b[1m111s\u001b[0m 4s/step - accuracy: 1.0000 - loss: 2.0605e-13 - val_accuracy: 1.0000 - val_loss: 4.9425e-10\n",
            "Epoch 30/30\n",
            "\u001b[1m32/32\u001b[0m \u001b[32m━━━━━━━━━━━━━━━━━━━━\u001b[0m\u001b[37m\u001b[0m \u001b[1m142s\u001b[0m 4s/step - accuracy: 1.0000 - loss: 1.5287e-13 - val_accuracy: 1.0000 - val_loss: 4.9425e-10\n"
          ]
        }
      ],
      "source": [
        "callbacks = [\n",
        " keras.callbacks.ModelCheckpoint(\n",
        " filepath=\"convnet_from_scratch.keras\",\n",
        " save_best_only=True,\n",
        " monitor=\"val_loss\")\n",
        "]\n",
        "\n",
        "history = model.fit(\n",
        " train_dataset,\n",
        " epochs=30,\n",
        " validation_data=validation_dataset,\n",
        " callbacks=callbacks)"
      ]
    },
    {
      "cell_type": "markdown",
      "metadata": {
        "id": "L52nAa22_Vix"
      },
      "source": [
        "Displaying curves of loss and accuracy during training"
      ]
    },
    {
      "cell_type": "code",
      "execution_count": null,
      "metadata": {
        "id": "SWi0tCiD_WNP"
      },
      "outputs": [],
      "source": [
        "import matplotlib.pyplot as plt"
      ]
    },
    {
      "cell_type": "code",
      "execution_count": null,
      "metadata": {
        "id": "wEbpayjx_YuV"
      },
      "outputs": [],
      "source": [
        "accuracy = history.history[\"accuracy\"]\n",
        "val_accuracy = history.history[\"val_accuracy\"]\n",
        "loss = history.history[\"loss\"]\n",
        "val_loss = history.history[\"val_loss\"]\n",
        "epochs = range(1, len(accuracy) + 1)\n",
        "plt.plot(epochs, accuracy, \"bo\", label=\"Training accuracy\")\n",
        "plt.plot(epochs, val_accuracy, \"b\", label=\"Validation accuracy\")\n",
        "plt.title(\"Training and validation accuracy\")\n",
        "plt.legend()\n",
        "plt.figure()\n",
        "plt.plot(epochs, loss, \"bo\", label=\"Training loss\")\n",
        "plt.plot(epochs, val_loss, \"b\", label=\"Validation loss\")\n",
        "plt.title(\"Training and validation loss\")\n",
        "plt.legend()\n",
        "plt.show()"
      ]
    },
    {
      "cell_type": "markdown",
      "metadata": {
        "id": "gJGrTVweAOzz"
      },
      "source": [
        "Evaluating model on test data"
      ]
    },
    {
      "cell_type": "code",
      "execution_count": null,
      "metadata": {
        "id": "ZCv-CkdMAQ2U"
      },
      "outputs": [],
      "source": [
        "test_model = keras.models.load_model(\"convnet_from_scratch.keras\")\n",
        "test_loss, test_acc = test_model.evaluate(test_dataset)\n",
        "print(f\"Test accuracy: {test_acc:.3f}\")"
      ]
    },
    {
      "cell_type": "markdown",
      "metadata": {
        "id": "QJciJbarAnln"
      },
      "source": [
        "Define a data augmentation stage to add to an image model"
      ]
    },
    {
      "cell_type": "code",
      "execution_count": null,
      "metadata": {
        "id": "ndzHVTNFAoM3"
      },
      "outputs": [],
      "source": [
        "data_augmentation = keras.Sequential(\n",
        " [\n",
        " layers.RandomFlip(\"horizontal\"),\n",
        " layers.RandomRotation(0.1),\n",
        " layers.RandomZoom(0.2),\n",
        " ]\n",
        ")"
      ]
    },
    {
      "cell_type": "code",
      "execution_count": null,
      "metadata": {
        "id": "9M8m0A8rAuSs"
      },
      "outputs": [],
      "source": [
        "plt.figure(figsize=(10, 10))\n",
        "for images, _ in train_dataset.take(1):\n",
        "  for i in range(9):\n",
        "    augmented_images = data_augmentation(images)\n",
        "    ax = plt.subplot(3, 3, i + 1)\n",
        "    plt.imshow(augmented_images[0].numpy().astype(\"uint8\"))\n",
        "    plt.axis(\"off\")"
      ]
    },
    {
      "cell_type": "markdown",
      "metadata": {
        "id": "yYIuRisxBEU8"
      },
      "source": [
        " Defining a new convnet that includes image augmentation and dropout"
      ]
    },
    {
      "cell_type": "code",
      "execution_count": null,
      "metadata": {
        "id": "QXBRvUwdBEvn"
      },
      "outputs": [],
      "source": [
        "inputs = keras.Input(shape=(180, 180, 3))\n",
        "x = data_augmentation(inputs)\n",
        "x = layers.Rescaling(1./255)(x)\n",
        "x = layers.Conv2D(filters=32, kernel_size=3, activation=\"relu\")(x)\n",
        "x = layers.MaxPooling2D(pool_size=2)(x)\n",
        "x = layers.Conv2D(filters=64, kernel_size=3, activation=\"relu\")(x)\n",
        "x = layers.MaxPooling2D(pool_size=2)(x)\n",
        "x = layers.Conv2D(filters=128, kernel_size=3, activation=\"relu\")(x)\n",
        "x = layers.MaxPooling2D(pool_size=2)(x)\n",
        "x = layers.Conv2D(filters=256, kernel_size=3, activation=\"relu\")(x)\n",
        "x = layers.MaxPooling2D(pool_size=2)(x)\n",
        "x = layers.Conv2D(filters=256, kernel_size=3, activation=\"relu\")(x)\n",
        "x = layers.Flatten()(x)\n",
        "x = layers.Dropout(0.5)(x)\n",
        "outputs = layers.Dense(1, activation=\"sigmoid\")(x)\n",
        "model = keras.Model(inputs=inputs, outputs=outputs)"
      ]
    },
    {
      "cell_type": "code",
      "execution_count": null,
      "metadata": {
        "id": "PCpAjcAFBLvo"
      },
      "outputs": [],
      "source": [
        "model.compile(loss=\"binary_crossentropy\",\n",
        " optimizer=\"rmsprop\",\n",
        " metrics=[\"accuracy\"])"
      ]
    },
    {
      "cell_type": "markdown",
      "metadata": {
        "id": "WNZYSQrWBWQu"
      },
      "source": [
        "Training the regularized convnet"
      ]
    },
    {
      "cell_type": "code",
      "execution_count": null,
      "metadata": {
        "id": "F3l-txJABNyT"
      },
      "outputs": [],
      "source": [
        "callbacks = [\n",
        " keras.callbacks.ModelCheckpoint(\n",
        " filepath=\"convnet_from_scratch_with_augmentation.keras\",\n",
        " save_best_only=True,\n",
        " monitor=\"val_loss\")\n",
        "]\n",
        "history = model.fit(\n",
        " train_dataset,\n",
        " epochs=100,\n",
        " validation_data=validation_dataset,\n",
        " callbacks=callbacks)"
      ]
    },
    {
      "cell_type": "markdown",
      "metadata": {
        "id": "nvMZ_UJDHdss"
      },
      "source": [
        "Evaluaitng the model on the test set"
      ]
    },
    {
      "cell_type": "code",
      "execution_count": null,
      "metadata": {
        "id": "qdlVaAJUBZHz"
      },
      "outputs": [],
      "source": [
        "test_model = keras.models.load_model(\n",
        " \"convnet_from_scratch_with_augmentation.keras\")\n",
        "test_loss, test_acc = test_model.evaluate(test_dataset)\n",
        "print(f\"Test accuracy: {test_acc:.3f}\")"
      ]
    },
    {
      "cell_type": "code",
      "execution_count": null,
      "metadata": {
        "id": "JsQ5pGZuHqYx"
      },
      "outputs": [],
      "source": [
        "#Instantiating the VGG16 convolutional base\n",
        "conv_base = keras.applications.vgg16.VGG16(\n",
        " weights=\"imagenet\",\n",
        " include_top=False,\n",
        " input_shape=(180, 180, 3))"
      ]
    },
    {
      "cell_type": "code",
      "execution_count": null,
      "metadata": {
        "id": "_9LH7ixLjbnV"
      },
      "outputs": [],
      "source": [
        "# Extracting the VGG16 features and corresponding labels\n",
        "import numpy as np\n",
        "def get_features_and_labels(dataset):\n",
        " all_features = []\n",
        " all_labels = []\n",
        " for images, labels in dataset:\n",
        "  preprocessed_images = keras.applications.vgg16.preprocess_input(images)\n",
        "  features = conv_base.predict(preprocessed_images)\n",
        "  all_features.append(features)\n",
        "  all_labels.append(labels)\n",
        "  return np.concatenate(all_features), np.concatenate(all_labels)\n",
        "train_features, train_labels = get_features_and_labels(train_dataset)\n",
        "val_features, val_labels = get_features_and_labels(validation_dataset)\n",
        "test_features, test_labels = get_features_and_labels(test_dataset)"
      ]
    },
    {
      "cell_type": "code",
      "execution_count": null,
      "metadata": {
        "id": "sLVjMco7lYz8"
      },
      "outputs": [],
      "source": [
        "#Defining and training the densely connected classifier\n",
        "inputs = keras.Input(shape=(5, 5, 512))\n",
        "x = layers.Flatten()(inputs)\n",
        "x = layers.Dense(256)(x)\n",
        "x = layers.Dropout(0.5)(x)\n",
        "outputs = layers.Dense(1, activation=\"sigmoid\")(x)\n",
        "model = keras.Model(inputs, outputs)\n",
        "\n",
        "model.compile(loss=\"binary_crossentropy\",\n",
        " optimizer=\"rmsprop\",\n",
        " metrics=[\"accuracy\"])\n",
        "callbacks = [\n",
        " keras.callbacks.ModelCheckpoint(\n",
        " filepath=\"feature_extraction.keras\",\n",
        " save_best_only=True,\n",
        " monitor=\"val_loss\")\n",
        "]\n",
        "history = model.fit(\n",
        " train_features, train_labels,\n",
        " epochs=20,\n",
        " validation_data=(val_features, val_labels),\n",
        " callbacks=callbacks)"
      ]
    },
    {
      "cell_type": "code",
      "execution_count": null,
      "metadata": {
        "id": "TgEyLDDHmKIZ"
      },
      "outputs": [],
      "source": [
        "#Plotting the results\n",
        "\n",
        "import matplotlib.pyplot as plt\n",
        "acc = history.history[\"accuracy\"]\n",
        "val_acc = history.history[\"val_accuracy\"]\n",
        "loss = history.history[\"loss\"]\n",
        "val_loss = history.history[\"val_loss\"]\n",
        "epochs = range(1, len(acc) + 1)\n",
        "plt.plot(epochs, acc, \"bo\", label=\"Training accuracy\")\n",
        "plt.plot(epochs, val_acc, \"b\", label=\"Validation accuracy\")\n",
        "plt.title(\"Training and validation accuracy\")\n",
        "plt.legend()\n",
        "plt.figure()\n",
        "plt.plot(epochs, loss, \"bo\", label=\"Training loss\")\n",
        "plt.plot(epochs, val_loss, \"b\", label=\"Validation loss\")\n",
        "plt.title(\"Training and validation loss\")\n",
        "plt.legend()\n",
        "plt.show()"
      ]
    },
    {
      "cell_type": "code",
      "execution_count": null,
      "metadata": {
        "id": "XwhMPdphv1ts"
      },
      "outputs": [],
      "source": []
    },
    {
      "cell_type": "code",
      "execution_count": null,
      "metadata": {
        "id": "BdsnfCkmme0n"
      },
      "outputs": [],
      "source": [
        "# Instantiating and freezing the VGG16 convolutional base\n",
        "conv_base = keras.applications.vgg16.VGG16(\n",
        " weights=\"imagenet\",\n",
        " include_top=False)\n",
        "conv_base.trainable = False"
      ]
    },
    {
      "cell_type": "code",
      "execution_count": null,
      "metadata": {
        "id": "h9x-KjT8mlUG"
      },
      "outputs": [],
      "source": [
        "#Printing the list of trainable weights before and after freezing\n",
        "conv_base.trainable = True\n",
        "print(\"This is the number of trainable weights \"\n",
        " \"before freezing the conv base:\", len(conv_base.trainable_weights))\n",
        "\n",
        "conv_base.trainable = False\n",
        "print(\"This is the number of trainable weights \"\n",
        "\"after freezing the conv base:\", len(conv_base.trainable_weights))"
      ]
    },
    {
      "cell_type": "code",
      "execution_count": null,
      "metadata": {
        "id": "hcJelJ7EnI0W"
      },
      "outputs": [],
      "source": [
        "# Adding a data augmentation stage and a classifier to the convolutional base\n",
        "\n",
        "data_augmentation = keras.Sequential(\n",
        " [\n",
        " layers.RandomFlip(\"horizontal\"),\n",
        " layers.RandomRotation(0.1),\n",
        " layers.RandomZoom(0.2),\n",
        " ]\n",
        ")\n",
        "\n",
        "inputs = keras.Input(shape=(180, 180, 3))\n",
        "x = data_augmentation(inputs)\n",
        "x = keras.applications.vgg16.preprocess_input(x)\n",
        "x = conv_base(x)\n",
        "x = layers.Flatten()(x)\n",
        "x = layers.Dense(256)(x)\n",
        "x = layers.Dropout(0.5)(x)\n",
        "outputs = layers.Dense(1, activation=\"sigmoid\")(x)\n",
        "model = keras.Model(inputs, outputs)\n",
        "model.compile(loss=\"binary_crossentropy\",\n",
        " optimizer=\"rmsprop\",\n",
        " metrics=[\"accuracy\"])"
      ]
    },
    {
      "cell_type": "code",
      "execution_count": null,
      "metadata": {
        "id": "3HTH3nPxngKU"
      },
      "outputs": [],
      "source": [
        "callbacks = [\n",
        " keras.callbacks.ModelCheckpoint(\n",
        " filepath=\"feature_extraction_with_data_augmentation.keras\",\n",
        " save_best_only=True,\n",
        " monitor=\"val_loss\")\n",
        "]\n",
        "history = model.fit(\n",
        " train_dataset,\n",
        " epochs=50,\n",
        " validation_data=validation_dataset,\n",
        " callbacks=callbacks)"
      ]
    },
    {
      "cell_type": "code",
      "execution_count": null,
      "metadata": {
        "id": "qaCLZc4Ev3-S"
      },
      "outputs": [],
      "source": [
        "#Evaluate model on test data\n",
        "\n",
        "test_model = keras.models.load_model(\n",
        " \"feature_extraction_with_data_augmentation.keras\")\n",
        "test_loss, test_acc = test_model.evaluate(test_dataset)\n",
        "print(f\"Test accuracy: {test_acc:.3f}\")\n"
      ]
    },
    {
      "cell_type": "code",
      "execution_count": null,
      "metadata": {
        "id": "woMDdXbgxrks"
      },
      "outputs": [],
      "source": [
        "#Freezing all layers until the fourth from the last\n",
        "conv_base.trainable = True\n",
        "for layer in conv_base.layers[:-4]:\n",
        "  layer.trainable = False"
      ]
    },
    {
      "cell_type": "code",
      "execution_count": null,
      "metadata": {
        "id": "QEVP1P_uxxDv"
      },
      "outputs": [],
      "source": [
        "#Fine-tuning the model\n",
        "model.compile(loss=\"binary_crossentropy\",\n",
        " optimizer=keras.optimizers.RMSprop(learning_rate=1e-5),\n",
        " metrics=[\"accuracy\"])\n",
        "callbacks = [\n",
        " keras.callbacks.ModelCheckpoint(\n",
        " filepath=\"fine_tuning.keras\",\n",
        " save_best_only=True,\n",
        " monitor=\"val_loss\")\n",
        "]\n",
        "history = model.fit(\n",
        " train_dataset,\n",
        " epochs=30,\n",
        " validation_data=validation_dataset,\n",
        " callbacks=callbacks)"
      ]
    },
    {
      "cell_type": "code",
      "execution_count": null,
      "metadata": {
        "id": "GaBYXF2jx1E0"
      },
      "outputs": [],
      "source": [
        "#Evaluate on test set\n",
        "model = keras.models.load_model(\"fine_tuning.keras\")\n",
        "test_loss, test_acc = model.evaluate(test_dataset)\n",
        "print(f\"Test accuracy: {test_acc:.3f}\")"
      ]
    }
  ],
  "metadata": {
    "colab": {
      "provenance": [],
      "include_colab_link": true
    },
    "kernelspec": {
      "display_name": "Python 3",
      "name": "python3"
    },
    "language_info": {
      "name": "python"
    }
  },
  "nbformat": 4,
  "nbformat_minor": 0
}